{
 "cells": [
  {
   "cell_type": "markdown",
   "id": "d76c2914",
   "metadata": {},
   "source": [
    "## Neural network training notebook\n",
    "### Hazard level: 475 years"
   ]
  },
  {
   "cell_type": "code",
   "execution_count": 1,
   "id": "a5d8568a",
   "metadata": {},
   "outputs": [],
   "source": [
    "import numpy as np\n",
    "import matplotlib\n",
    "# matplotlib.use('TkAgg')\n",
    "import matplotlib as mpl\n",
    "import matplotlib.pyplot as plt\n",
    "import pandas as pd\n",
    "from sklearn.neural_network import MLPRegressor\n",
    "from sklearn.preprocessing import StandardScaler\n",
    "from sklearn.metrics import mean_absolute_error, explained_variance_score,r2_score\n",
    "import pickle\n",
    "import time\n",
    "import copy\n",
    "import random"
   ]
  },
  {
   "cell_type": "markdown",
   "id": "fd102e1d",
   "metadata": {},
   "source": [
    "## Load model"
   ]
  },
  {
   "cell_type": "code",
   "execution_count": 2,
   "id": "710cd688",
   "metadata": {},
   "outputs": [],
   "source": [
    "#Load saved model so we don't need to train everytime\n",
    "mlp = pickle.load(open(r'C:\\Users\\peter\\OneDrive\\Desktop\\CS 230\\4 NNv1\\00 training data\\model_fitted_all_imp1_3_120.pkl','rb'))\n",
    "scaler = pickle.load(open(r'C:\\Users\\peter\\OneDrive\\Desktop\\CS 230\\4 NNv1\\02 Optimization\\scaler.pkl','rb'))\n",
    "\n"
   ]
  },
  {
   "cell_type": "code",
   "execution_count": 3,
   "id": "5fbbd5ea",
   "metadata": {},
   "outputs": [
    {
     "name": "stdout",
     "output_type": "stream",
     "text": [
      "5\n"
     ]
    }
   ],
   "source": [
    "n_input_features = mlp.n_features_in_\n",
    "n_layers = mlp.n_layers_\n",
    "print(n_layers)\n",
    "# uniform number of hidden units\n",
    "n_hidden_units = len(mlp.coefs_[1][0])"
   ]
  },
  {
   "cell_type": "markdown",
   "id": "e9d7c6d0",
   "metadata": {},
   "source": [
    "## Convert from scikit-learn to tensorflow keras"
   ]
  },
  {
   "cell_type": "code",
   "execution_count": 4,
   "id": "0695a3a5",
   "metadata": {},
   "outputs": [],
   "source": [
    "import tensorflow as tf\n",
    "from tensorflow.python.ops.numpy_ops import np_config\n",
    "np_config.enable_numpy_behavior()"
   ]
  },
  {
   "cell_type": "code",
   "execution_count": 5,
   "id": "38db1870",
   "metadata": {},
   "outputs": [],
   "source": [
    "# initialize model\n",
    "tf.keras.backend.clear_session()\n",
    "tf_model = tf.keras.models.Sequential()\n",
    "\n",
    "# replicate model architecture\n",
    "# input layer\n",
    "tf_model.add(tf.keras.Input(shape=(n_input_features,)))\n",
    "# hidden layers - exclude input and output layers\n",
    "for i in range(n_layers-2):\n",
    "    tf_model.add(tf.keras.layers.Dense(n_hidden_units, activation='relu'))\n",
    "# final layer\n",
    "tf_model.add(tf.keras.layers.Dense(1, activation='relu'))"
   ]
  },
  {
   "cell_type": "code",
   "execution_count": 6,
   "id": "d1e909bf",
   "metadata": {},
   "outputs": [],
   "source": [
    "# assign weights from scikit-learn model to tf model\n",
    "mlp_weights = mlp.coefs_\n",
    "mlp_biases = mlp.intercepts_\n",
    "\n",
    "for i in range(n_layers-1):\n",
    "    tf_model.layers[i].weights[0].assign(mlp_weights[i])\n",
    "    tf_model.layers[i].bias.assign(mlp_biases[i])"
   ]
  },
  {
   "cell_type": "code",
   "execution_count": 7,
   "id": "36b6984e",
   "metadata": {},
   "outputs": [
    {
     "name": "stdout",
     "output_type": "stream",
     "text": [
      "[1.67496e-02 1.69762e-02 1.61780e-02 2.09826e+02 3.06090e+02 3.30710e+02\n",
      " 3.83836e+02 1.90000e+00 2.40000e+00 2.50000e+00 2.40000e+00 2.50000e+00\n",
      " 2.10000e+00 2.20000e+00 1.70000e+00 2.80000e+00 1.60000e+00 1.50000e+00\n",
      " 2.40000e+00 1.50000e+00 1.40000e+00 2.00000e+00 2.20000e+00 2.00000e+00\n",
      " 2.40000e+00 2.60000e+00 2.90000e+00 2.40000e+00 1.50000e+00 2.40000e+00\n",
      " 1.90000e+00 1.30000e+00 1.00000e+00 1.30000e+00 1.50000e+00 2.00000e+00\n",
      " 1.40000e+00 1.60000e+00 1.60000e+00 2.50000e+00 2.70000e+00 2.90000e+00\n",
      " 2.90000e+00 2.20000e+00 2.50000e+00 1.40000e+00 1.50000e+00 1.50000e+00]\n",
      "4.7627763307984425\n",
      "4.762776\n"
     ]
    }
   ],
   "source": [
    "# test if tf model matches scikit-learn model\n",
    "# create random input_data\n",
    "random_combinations = np.round(np.random.uniform(1,3,n_input_features),1)\n",
    "# assign EDPS\n",
    "random_combinations[0:7] = [0.0167496,0.0169762,0.016178,209.826,306.09,330.71,383.836]\n",
    "print(random_combinations)\n",
    "\n",
    "input_data = pd.DataFrame(random_combinations).T\n",
    "input_data_scaled = scaler.transform(input_data)\n",
    "\n",
    "# predict using scikit-learn model\n",
    "return_value_scikit = mlp.predict(input_data_scaled)\n",
    "print(return_value_scikit[0])\n",
    "\n",
    "# predict using tf model\n",
    "return_value_tf = tf_model.predict(input_data_scaled)\n",
    "print(return_value_tf[0][0])"
   ]
  },
  {
   "cell_type": "markdown",
   "id": "80375c50",
   "metadata": {},
   "source": [
    "## Define find_gradients"
   ]
  },
  {
   "cell_type": "code",
   "execution_count": 8,
   "id": "92d88b97",
   "metadata": {},
   "outputs": [],
   "source": [
    "def find_gradients(input_data, input_label, input_target,lambd):\n",
    "  with tf.GradientTape() as tape:\n",
    "    tape.watch(input_data)\n",
    "    prediction = tf_model(input_data)\n",
    "    diff = input_target - input_data\n",
    "    loss_object = tf.keras.losses.MeanSquaredError()\n",
    "    loss = loss_object(input_label, prediction) + lambd*sum(abs(diff))\n",
    "\n",
    "  # Get the gradients of the loss w.r.t to the input vector.\n",
    "  gradient = tape.gradient(loss, input_data)\n",
    "  # Get the sign of the gradients to create the perturbation\n",
    "  signed_grad = tf.sign(gradient)\n",
    "  return signed_grad"
   ]
  },
  {
   "cell_type": "code",
   "execution_count": 102,
   "id": "801bd4dd",
   "metadata": {},
   "outputs": [
    {
     "name": "stdout",
     "output_type": "stream",
     "text": [
      "        0         1         2        3       4       5        6    7    8   \\\n",
      "0  0.01675  0.016976  0.016178  209.826  306.09  330.71  383.836  1.0  1.0   \n",
      "\n",
      "    9   ...   38   39   40   41   42   43   44   45   46   47  \n",
      "0  1.0  ...  1.0  1.0  1.0  1.0  1.0  1.0  1.0  1.0  1.0  1.0  \n",
      "\n",
      "[1 rows x 48 columns]\n",
      "[[  0.0167496   0.0169762   0.016178  209.826     306.09      330.71\n",
      "  383.836       1.          1.          1.          1.          1.\n",
      "    1.          1.          1.          1.          1.          1.\n",
      "    1.          1.          1.          1.          1.          1.\n",
      "    1.          1.          1.          1.          1.          1.\n",
      "    1.          1.          1.          1.          1.          1.\n",
      "    1.          1.          1.          1.          1.          1.\n",
      "    1.          1.          1.          1.          1.          1.       ]]\n",
      "tf.Tensor([[28.637611]], shape=(1, 1), dtype=float32)\n"
     ]
    }
   ],
   "source": [
    "steps = 2000\n",
    "eta = 0.001\n",
    "\n",
    "# lambd = 10000\n",
    "input_data_EDP = np.array([0.0167496,0.0169762,0.016178,209.826,306.09,330.71,383.836])\n",
    "input_data_components = np.ones((1,41))[0]\n",
    "input_data = np.concatenate((input_data_EDP,input_data_components),axis=0)\n",
    "input_label = 4\n",
    "\n",
    "input_data = pd.DataFrame(input_data).T\n",
    "print(input_data)\n",
    "input_data_transform = scaler.transform(input_data)\n",
    "input_data_transform = tf.convert_to_tensor(input_data_transform)\n",
    "\n",
    "input_data_unscaled = scaler.inverse_transform(input_data_transform)\n",
    "print(input_data_unscaled)\n",
    "\n",
    "prediction_original = tf_model(input_data_transform)\n",
    "print(prediction_original)\n",
    "\n",
    "input_target_transform = scaler.transform(input_data)\n",
    "input_target_transform = tf.convert_to_tensor(input_target_transform)"
   ]
  },
  {
   "cell_type": "code",
   "execution_count": 103,
   "id": "0dea2c84",
   "metadata": {},
   "outputs": [
    {
     "name": "stdout",
     "output_type": "stream",
     "text": [
      "[[0. 0. 0. 0. 0. 0. 0. 1. 1. 1. 1. 1. 1. 1. 1. 1. 1. 1. 1. 1. 1. 1. 1. 1.\n",
      "  1. 1. 1. 1. 1. 1. 1. 1. 1. 1. 1. 1. 1. 1. 1. 1. 1. 1. 1. 1. 1. 1. 1. 1.]]\n"
     ]
    }
   ],
   "source": [
    "filter_array = np.ones((1,48))\n",
    "filter_array[0,0:7] = 0\n",
    "print(filter_array)"
   ]
  },
  {
   "cell_type": "markdown",
   "id": "652c265c",
   "metadata": {},
   "source": [
    "## Perform gradient descent"
   ]
  },
  {
   "cell_type": "code",
   "execution_count": 104,
   "id": "b5ff51e3",
   "metadata": {},
   "outputs": [],
   "source": [
    "# repeat the process to carry out gradient descent\n",
    "for i in range(steps):\n",
    "    derivative = find_gradients(input_data_transform,input_label,input_target_transform,lambd=500)\n",
    "    # do not update first seven EDP values\n",
    "    derivative = np.multiply(derivative,filter_array)\n",
    "    # update input_data based on derivative\n",
    "    input_data_transform = input_data_transform - eta*(derivative)"
   ]
  },
  {
   "cell_type": "markdown",
   "id": "a82ba32d",
   "metadata": {},
   "source": [
    "## Visualize results"
   ]
  },
  {
   "cell_type": "code",
   "execution_count": 105,
   "id": "7331f7bd",
   "metadata": {},
   "outputs": [
    {
     "name": "stdout",
     "output_type": "stream",
     "text": [
      "tf.Tensor([[7.4060216]], shape=(1, 1), dtype=float32)\n"
     ]
    }
   ],
   "source": [
    "prediction_changed = tf_model(input_data_transform)\n",
    "print(prediction_changed)"
   ]
  },
  {
   "cell_type": "code",
   "execution_count": 106,
   "id": "5392cb8a",
   "metadata": {},
   "outputs": [],
   "source": [
    "input_data_changed = scaler.inverse_transform(input_data_transform)\n",
    "input_data_optimized = input_data_changed"
   ]
  },
  {
   "cell_type": "code",
   "execution_count": 107,
   "id": "c431867f",
   "metadata": {},
   "outputs": [],
   "source": [
    "input_data_optimized_transformed = scaler.transform(input_data_optimized)"
   ]
  },
  {
   "cell_type": "code",
   "execution_count": 108,
   "id": "b917417d",
   "metadata": {},
   "outputs": [
    {
     "name": "stdout",
     "output_type": "stream",
     "text": [
      "tf.Tensor([[7.4060216]], shape=(1, 1), dtype=float32)\n"
     ]
    }
   ],
   "source": [
    "prediction_optimized = tf_model(input_data_optimized_transformed)\n",
    "print(prediction_optimized)"
   ]
  },
  {
   "cell_type": "code",
   "execution_count": 109,
   "id": "920d2499",
   "metadata": {},
   "outputs": [],
   "source": [
    "input_data_rounded = np.round(input_data_changed[0],3)"
   ]
  },
  {
   "cell_type": "code",
   "execution_count": 110,
   "id": "a53e4c73",
   "metadata": {},
   "outputs": [
    {
     "name": "stdout",
     "output_type": "stream",
     "text": [
      "[[  0.017]\n",
      " [  0.017]\n",
      " [  0.016]\n",
      " [209.826]\n",
      " [306.09 ]\n",
      " [330.71 ]\n",
      " [383.836]\n",
      " [  1.   ]\n",
      " [  1.   ]\n",
      " [  1.   ]\n",
      " [  1.   ]\n",
      " [  1.   ]\n",
      " [  1.   ]\n",
      " [  1.008]\n",
      " [  1.683]\n",
      " [  1.988]\n",
      " [  1.   ]\n",
      " [  1.667]\n",
      " [  1.   ]\n",
      " [  1.183]\n",
      " [  1.212]\n",
      " [  1.111]\n",
      " [  1.179]\n",
      " [  1.   ]\n",
      " [  1.   ]\n",
      " [  1.   ]\n",
      " [  1.   ]\n",
      " [  1.   ]\n",
      " [  1.   ]\n",
      " [  1.   ]\n",
      " [  1.   ]\n",
      " [  1.   ]\n",
      " [  1.   ]\n",
      " [  1.   ]\n",
      " [  1.   ]\n",
      " [  1.   ]\n",
      " [  1.   ]\n",
      " [  1.   ]\n",
      " [  1.325]\n",
      " [  1.   ]\n",
      " [  1.235]\n",
      " [  1.   ]\n",
      " [  1.   ]\n",
      " [  1.   ]\n",
      " [  1.   ]\n",
      " [  1.   ]\n",
      " [  1.   ]\n",
      " [  1.   ]]\n"
     ]
    }
   ],
   "source": [
    "np.set_printoptions(suppress=True)\n",
    "print(input_data_rounded[:,None])"
   ]
  },
  {
   "cell_type": "code",
   "execution_count": null,
   "id": "66709ac3",
   "metadata": {},
   "outputs": [],
   "source": []
  }
 ],
 "metadata": {
  "kernelspec": {
   "display_name": "Python 3 (ipykernel)",
   "language": "python",
   "name": "python3"
  },
  "language_info": {
   "codemirror_mode": {
    "name": "ipython",
    "version": 3
   },
   "file_extension": ".py",
   "mimetype": "text/x-python",
   "name": "python",
   "nbconvert_exporter": "python",
   "pygments_lexer": "ipython3",
   "version": "3.9.7"
  }
 },
 "nbformat": 4,
 "nbformat_minor": 5
}
