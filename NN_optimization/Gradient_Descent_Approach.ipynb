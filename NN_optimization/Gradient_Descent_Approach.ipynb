{
 "cells": [
  {
   "cell_type": "markdown",
   "id": "d76c2914",
   "metadata": {},
   "source": [
    "## Neural network training notebook\n",
    "### Hazard level: 475 years"
   ]
  },
  {
   "cell_type": "code",
   "execution_count": 1,
   "id": "a5d8568a",
   "metadata": {},
   "outputs": [],
   "source": [
    "\n",
    "import numpy as np\n",
    "\n",
    "import matplotlib\n",
    "# matplotlib.use('TkAgg')\n",
    "import matplotlib as mpl\n",
    "import matplotlib.pyplot as plt\n",
    "import pandas as pd\n",
    "from sklearn.neural_network import MLPRegressor\n",
    "from sklearn.preprocessing import StandardScaler\n",
    "from sklearn.metrics import mean_absolute_error, explained_variance_score,r2_score\n",
    "import pickle\n",
    "import time\n",
    "import copy\n",
    "import random\n",
    "\n",
    "#%% Read and manipulate data\n"
   ]
  },
  {
   "cell_type": "code",
   "execution_count": null,
   "id": "d7229702",
   "metadata": {},
   "outputs": [],
   "source": []
  },
  {
   "cell_type": "markdown",
   "id": "fd102e1d",
   "metadata": {},
   "source": [
    "## Load model"
   ]
  },
  {
   "cell_type": "code",
   "execution_count": 9,
   "id": "710cd688",
   "metadata": {},
   "outputs": [],
   "source": [
    "#Load saved model so we don't need to train everytime\n",
    "mlp = pickle.load(open('model_fitted_all_475_imp1.pkl','rb'))\n",
    "scaler = pickle.load(open('scaler.pkl','rb'))\n",
    "\n"
   ]
  },
  {
   "cell_type": "markdown",
   "id": "e9d7c6d0",
   "metadata": {},
   "source": [
    "## Convert from scikit-learn to tensorflow keras"
   ]
  },
  {
   "cell_type": "code",
   "execution_count": 10,
   "id": "0695a3a5",
   "metadata": {},
   "outputs": [],
   "source": [
    "import tensorflow as tf\n",
    "from tensorflow.python.ops.numpy_ops import np_config\n",
    "np_config.enable_numpy_behavior()"
   ]
  },
  {
   "cell_type": "code",
   "execution_count": 11,
   "id": "38db1870",
   "metadata": {},
   "outputs": [],
   "source": [
    "# initialize model\n",
    "tf.keras.backend.clear_session()\n",
    "tf_model = tf.keras.models.Sequential()\n",
    "\n",
    "# replicate model architecture\n",
    "# input layer\n",
    "tf_model.add(tf.keras.Input(shape=(41,)))\n",
    "# hidden layers\n",
    "for i in range(20):\n",
    "    tf_model.add(tf.keras.layers.Dense(150, activation='relu'))\n",
    "# final layer\n",
    "tf_model.add(tf.keras.layers.Dense(1, activation='relu'))\n",
    "\n",
    "# tf_model.layers"
   ]
  },
  {
   "cell_type": "code",
   "execution_count": 12,
   "id": "d1e909bf",
   "metadata": {},
   "outputs": [],
   "source": [
    "# assign weights from scikit-learn model to tf model\n",
    "mlp_weights = mlp.coefs_\n",
    "mlp_biases = mlp.intercepts_\n",
    "\n",
    "for i in range(21):\n",
    "    tf_model.layers[i].weights[0].assign(mlp_weights[i])\n",
    "    tf_model.layers[i].bias.assign(mlp_biases[i])"
   ]
  },
  {
   "cell_type": "code",
   "execution_count": 13,
   "id": "36b6984e",
   "metadata": {},
   "outputs": [
    {
     "name": "stdout",
     "output_type": "stream",
     "text": [
      "[2.6 2.4 1.9 2.  2.7 1.3 1.7 2.2 2.3 2.4 1.3 1.6 2.8 2.5 3.  1.2 2.8 2.\n",
      " 2.1 2.3 1.6 2.8 1.2 2.9 2.4 1.7 2.3 3.  3.  1.9 1.2 2.5 1.5 2.4 2.4 2.2\n",
      " 1.5 2.  1.8 1.1 1.3]\n",
      "122.11584088543773\n",
      "122.11585\n"
     ]
    }
   ],
   "source": [
    "# test if tf model matches scikit-learn model\n",
    "# create random input_data\n",
    "random_combinations = np.round(np.random.uniform(1,3,41),1)\n",
    "print(random_combinations)\n",
    "\n",
    "input_data = pd.DataFrame(random_combinations).T\n",
    "input_data_scaled = scaler.transform(input_data)\n",
    "\n",
    "# predict using scikit-learn model\n",
    "return_value_scikit = mlp.predict(input_data_scaled)\n",
    "print(return_value_scikit[0])\n",
    "\n",
    "# predict using tf model\n",
    "return_value_tf = tf_model.predict(input_data_scaled)\n",
    "print(return_value_tf[0][0])"
   ]
  },
  {
   "cell_type": "markdown",
   "id": "80375c50",
   "metadata": {},
   "source": [
    "## Define find_gradients"
   ]
  },
  {
   "cell_type": "code",
   "execution_count": 14,
   "id": "92d88b97",
   "metadata": {},
   "outputs": [],
   "source": [
    "def find_gradients(input_data, input_label, input_target,lambd):\n",
    "  with tf.GradientTape() as tape:\n",
    "    tape.watch(input_data)\n",
    "    prediction = tf_model(input_data)\n",
    "    diff = input_target - input_data\n",
    "    loss_object = tf.keras.losses.MeanSquaredError()\n",
    "    loss = loss_object(input_label, prediction) + lambd*sum(abs(diff))\n",
    "\n",
    "  # Get the gradients of the loss w.r.t to the input image.\n",
    "  gradient = tape.gradient(loss, input_data)\n",
    "  # Get the sign of the gradients to create the perturbation\n",
    "  signed_grad = tf.sign(gradient)\n",
    "  return signed_grad"
   ]
  },
  {
   "cell_type": "code",
   "execution_count": 15,
   "id": "801bd4dd",
   "metadata": {},
   "outputs": [
    {
     "name": "stdout",
     "output_type": "stream",
     "text": [
      "[[1. 1. 1. 1. 1. 1. 1. 1. 1. 1. 1. 1. 1. 1. 1. 1. 1. 1. 1. 1. 1. 1. 1. 1.\n",
      "  1. 1. 1. 1. 1. 1. 1. 1. 1. 1. 1. 1. 1. 1. 1. 1. 1.]]\n",
      "tf.Tensor([[171.64752]], shape=(1, 1), dtype=float32)\n"
     ]
    }
   ],
   "source": [
    "steps = 2000\n",
    "eta = 0.001\n",
    "\n",
    "# lambd = 10000\n",
    "input_data = np.ones((1,41))\n",
    "# input_data = np.round(np.random.uniform(1,3,41),1)\n",
    "input_label = 80\n",
    "\n",
    "input_data = pd.DataFrame(input_data)\n",
    "input_data_transform = scaler.transform(input_data)\n",
    "input_data_transform = tf.convert_to_tensor(input_data_transform)\n",
    "\n",
    "input_data_unscaled = scaler.inverse_transform(input_data_transform)\n",
    "print(input_data_unscaled)\n",
    "\n",
    "prediction_original = tf_model(input_data_transform)\n",
    "print(prediction_original)\n",
    "\n",
    "input_target = np.ones((1,41))\n",
    "input_target_transform = scaler.transform(input_data)\n",
    "input_target_transform = tf.convert_to_tensor(input_target_transform)"
   ]
  },
  {
   "cell_type": "markdown",
   "id": "652c265c",
   "metadata": {},
   "source": [
    "## Perform gradient descent"
   ]
  },
  {
   "cell_type": "code",
   "execution_count": 16,
   "id": "b5ff51e3",
   "metadata": {},
   "outputs": [],
   "source": [
    "# repeat the process to carry out gradient descent\n",
    "for i in range(steps):\n",
    "    derivative = find_gradients(input_data_transform,input_label,input_target_transform,lambd=2000)\n",
    "    # update input_data based on derivative\n",
    "    input_data_transform = input_data_transform - eta*(derivative)"
   ]
  },
  {
   "cell_type": "markdown",
   "id": "a82ba32d",
   "metadata": {},
   "source": [
    "## Visualize results"
   ]
  },
  {
   "cell_type": "code",
   "execution_count": 17,
   "id": "7331f7bd",
   "metadata": {},
   "outputs": [
    {
     "name": "stdout",
     "output_type": "stream",
     "text": [
      "tf.Tensor([[81.64882]], shape=(1, 1), dtype=float32)\n"
     ]
    }
   ],
   "source": [
    "prediction_changed = tf_model(input_data_transform)\n",
    "print(prediction_changed)"
   ]
  },
  {
   "cell_type": "code",
   "execution_count": 20,
   "id": "5392cb8a",
   "metadata": {},
   "outputs": [
    {
     "name": "stdout",
     "output_type": "stream",
     "text": [
      "[1.  1.  1.  1.  1.  1.6 1.2 2.7 1.  1.  2.5 1.  1.  1.  1.  2.5 1.  1.\n",
      " 1.  1.  1.  1.  1.  1.  1.  1.  1.  1.  1.  1.  1.  1.  1.  1.  1.  1.\n",
      " 1.  1.  1.  1.  1. ]\n"
     ]
    }
   ],
   "source": [
    "input_data_changed = scaler.inverse_transform(input_data_transform)\n",
    "print(np.round(input_data_changed[0],1))\n",
    "input_data_optimized = input_data_changed"
   ]
  },
  {
   "cell_type": "code",
   "execution_count": 21,
   "id": "c431867f",
   "metadata": {},
   "outputs": [],
   "source": [
    "input_data_optimized_transformed = scaler.transform(input_data_optimized)"
   ]
  },
  {
   "cell_type": "code",
   "execution_count": 22,
   "id": "b917417d",
   "metadata": {},
   "outputs": [
    {
     "name": "stdout",
     "output_type": "stream",
     "text": [
      "tf.Tensor([[81.64882]], shape=(1, 1), dtype=float32)\n"
     ]
    }
   ],
   "source": [
    "prediction_optimized = tf_model(input_data_optimized_transformed)\n",
    "print(prediction_optimized)"
   ]
  },
  {
   "cell_type": "code",
   "execution_count": 23,
   "id": "920d2499",
   "metadata": {},
   "outputs": [],
   "source": [
    "input_data_rounded = np.round(input_data_changed[0],1)"
   ]
  },
  {
   "cell_type": "code",
   "execution_count": 24,
   "id": "a53e4c73",
   "metadata": {},
   "outputs": [
    {
     "name": "stdout",
     "output_type": "stream",
     "text": [
      "[[1. ]\n",
      " [1. ]\n",
      " [1. ]\n",
      " [1. ]\n",
      " [1. ]\n",
      " [1.6]\n",
      " [1.2]\n",
      " [2.7]\n",
      " [1. ]\n",
      " [1. ]\n",
      " [2.5]\n",
      " [1. ]\n",
      " [1. ]\n",
      " [1. ]\n",
      " [1. ]\n",
      " [2.5]\n",
      " [1. ]\n",
      " [1. ]\n",
      " [1. ]\n",
      " [1. ]\n",
      " [1. ]\n",
      " [1. ]\n",
      " [1. ]\n",
      " [1. ]\n",
      " [1. ]\n",
      " [1. ]\n",
      " [1. ]\n",
      " [1. ]\n",
      " [1. ]\n",
      " [1. ]\n",
      " [1. ]\n",
      " [1. ]\n",
      " [1. ]\n",
      " [1. ]\n",
      " [1. ]\n",
      " [1. ]\n",
      " [1. ]\n",
      " [1. ]\n",
      " [1. ]\n",
      " [1. ]\n",
      " [1. ]]\n"
     ]
    }
   ],
   "source": [
    "print(input_data_rounded[:,None])"
   ]
  },
  {
   "cell_type": "code",
   "execution_count": null,
   "id": "c34c318c",
   "metadata": {},
   "outputs": [],
   "source": []
  }
 ],
 "metadata": {
  "kernelspec": {
   "display_name": "Python 3 (ipykernel)",
   "language": "python",
   "name": "python3"
  },
  "language_info": {
   "codemirror_mode": {
    "name": "ipython",
    "version": 3
   },
   "file_extension": ".py",
   "mimetype": "text/x-python",
   "name": "python",
   "nbconvert_exporter": "python",
   "pygments_lexer": "ipython3",
   "version": "3.9.7"
  }
 },
 "nbformat": 4,
 "nbformat_minor": 5
}
